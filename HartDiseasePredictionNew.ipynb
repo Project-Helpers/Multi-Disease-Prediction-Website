{
  "nbformat": 4,
  "nbformat_minor": 0,
  "metadata": {
    "colab": {
      "provenance": []
    },
    "kernelspec": {
      "name": "python3",
      "display_name": "Python 3"
    },
    "language_info": {
      "name": "python"
    }
  },
  "cells": [
    {
      "cell_type": "markdown",
      "source": [
        "Import Libraries"
      ],
      "metadata": {
        "id": "L9APV5XJBf-n"
      }
    },
    {
      "cell_type": "code",
      "source": [
        "# Importing libraries\n",
        "from sklearn.linear_model import LogisticRegression\n",
        "import numpy as np\n",
        "import pandas as pd\n",
        "from sklearn.model_selection import train_test_split\n",
        "import warnings\n",
        "warnings.filterwarnings(\"ignore\")\n"
      ],
      "metadata": {
        "id": "FDz9V3elAhdi"
      },
      "execution_count": 20,
      "outputs": []
    },
    {
      "cell_type": "markdown",
      "source": [
        "Define the LogitRegression Class"
      ],
      "metadata": {
        "id": "gPkBt_e5BrWb"
      }
    },
    {
      "cell_type": "code",
      "source": [
        "# Logistic Regression class\n",
        "class LogitRegression():\n",
        "    def __init__(self, learning_rate, iterations):\n",
        "        self.learning_rate = learning_rate\n",
        "        self.iterations = iterations\n",
        "\n",
        "    def fit(self, X, Y):\n",
        "        self.m, self.n = X.shape\n",
        "        self.W = np.zeros(self.n)\n",
        "        self.b = 0\n",
        "        self.X = X\n",
        "        self.Y = Y\n",
        "\n",
        "        for i in range(self.iterations):\n",
        "            self.update_weights()\n",
        "        return self\n",
        "\n",
        "    def update_weights(self):\n",
        "        A = 1 / (1 + np.exp(-(self.X.dot(self.W) + self.b)))\n",
        "        tmp = (A - self.Y.T)\n",
        "        tmp = np.reshape(tmp, self.m)\n",
        "        dW = np.dot(self.X.T, tmp) / self.m\n",
        "        db = np.sum(tmp) / self.m\n",
        "        self.W = self.W - self.learning_rate * dW\n",
        "        self.b = self.b - self.learning_rate * db\n",
        "        return self\n",
        "\n",
        "    def predict(self, X):\n",
        "        Z = 1 / (1 + np.exp(-(X.dot(self.W) + self.b)))\n",
        "        Y = np.where(Z > 0.5, 1, 0)\n",
        "        return Y, Z\n"
      ],
      "metadata": {
        "id": "SchAiF7EAl01"
      },
      "execution_count": 21,
      "outputs": []
    },
    {
      "cell_type": "markdown",
      "source": [
        "Define the find Function"
      ],
      "metadata": {
        "id": "lqdk131IBxVn"
      }
    },
    {
      "cell_type": "code",
      "source": [
        "def find():\n",
        "    df = pd.read_csv(\"/content/heartdata.csv\")\n",
        "    X = df.iloc[:, :-1].values\n",
        "    Y = df.iloc[:, -1:].values\n",
        "    return X, Y\n"
      ],
      "metadata": {
        "id": "EBE8eTyxAoE2"
      },
      "execution_count": 22,
      "outputs": []
    },
    {
      "cell_type": "markdown",
      "source": [
        "Load Data and Split into Training and Testing Sets"
      ],
      "metadata": {
        "id": "2uwcVmiqB4uP"
      }
    },
    {
      "cell_type": "code",
      "source": [
        "# Load data\n",
        "X, Y = find()\n",
        "\n",
        "# Split data into training and testing sets\n",
        "X_train, X_test, Y_train, Y_test = train_test_split(X, Y, test_size=0.2, random_state=42)\n"
      ],
      "metadata": {
        "id": "OrM_F6S2A0eG"
      },
      "execution_count": 23,
      "outputs": []
    },
    {
      "cell_type": "markdown",
      "source": [
        "Create and Train the Custom Logistic Regression Model"
      ],
      "metadata": {
        "id": "vtfyK-q7CCiT"
      }
    },
    {
      "cell_type": "code",
      "source": [
        "# Create and train the custom Logistic Regression model\n",
        "custom_model = LogitRegression(learning_rate=0.01, iterations=1000)\n",
        "custom_model.fit(X_train, Y_train)\n"
      ],
      "metadata": {
        "colab": {
          "base_uri": "https://localhost:8080/"
        },
        "id": "7d84kr1XA8TI",
        "outputId": "90df5177-ba94-4bca-9f7d-99204b71b44c"
      },
      "execution_count": 24,
      "outputs": [
        {
          "output_type": "execute_result",
          "data": {
            "text/plain": [
              "<__main__.LogitRegression at 0x7b2df7b54c40>"
            ]
          },
          "metadata": {},
          "execution_count": 24
        }
      ]
    },
    {
      "cell_type": "markdown",
      "source": [
        "Make Predictions Using the Custom Model"
      ],
      "metadata": {
        "id": "yYjEso0pCJSd"
      }
    },
    {
      "cell_type": "code",
      "source": [
        "# Make predictions using the custom model\n",
        "custom_predictions, custom_probabilities = custom_model.predict(X_test)\n"
      ],
      "metadata": {
        "id": "nosGwHxfBGGn"
      },
      "execution_count": 25,
      "outputs": []
    },
    {
      "cell_type": "markdown",
      "source": [
        " Compare with Sklearn's Logistic Regression Model"
      ],
      "metadata": {
        "id": "KTgYSQvjCOkb"
      }
    },
    {
      "cell_type": "code",
      "source": [
        "# Compare with sklearn's Logistic Regression model\n",
        "sklearn_model = LogisticRegression()\n",
        "sklearn_model.fit(X_train, Y_train.ravel())\n",
        "sklearn_predictions = sklearn_model.predict(X_test)\n"
      ],
      "metadata": {
        "id": "bEUC7N-tBLdZ"
      },
      "execution_count": 26,
      "outputs": []
    },
    {
      "cell_type": "markdown",
      "source": [
        "Accuracy"
      ],
      "metadata": {
        "id": "-owwwiWnCV9Y"
      }
    },
    {
      "cell_type": "code",
      "source": [
        "# Compare accuracies\n",
        "custom_accuracy = np.mean(custom_predictions == Y_test.flatten()) * 100\n",
        "sklearn_accuracy = np.mean(sklearn_predictions == Y_test.flatten()) * 100\n",
        "\n",
        "print(f\"Custom Logistic Regression Model Accuracy: {custom_accuracy:.2f}%\")\n",
        "print(f\"Sklearn Logistic Regression Model Accuracy: {sklearn_accuracy:.2f}%\")\n"
      ],
      "metadata": {
        "colab": {
          "base_uri": "https://localhost:8080/"
        },
        "id": "uF9spvtfBQ-S",
        "outputId": "c5fbff15-e391-4715-cc17-9603c44130ac"
      },
      "execution_count": 27,
      "outputs": [
        {
          "output_type": "stream",
          "name": "stdout",
          "text": [
            "Custom Logistic Regression Model Accuracy: 63.93%\n",
            "Sklearn Logistic Regression Model Accuracy: 88.52%\n"
          ]
        }
      ]
    },
    {
      "cell_type": "markdown",
      "source": [],
      "metadata": {
        "id": "QS1rp3D-BdWJ"
      }
    }
  ]
}